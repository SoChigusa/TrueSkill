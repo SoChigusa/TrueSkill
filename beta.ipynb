{
 "cells": [
  {
   "cell_type": "markdown",
   "id": "6c3640bc-905f-4652-8bc1-94cffd8a7367",
   "metadata": {},
   "source": [
    "# TrueSkill のいろいろテスト"
   ]
  },
  {
   "cell_type": "code",
   "execution_count": 1,
   "id": "399539be-d2f1-43a1-ba61-30895a17a5cb",
   "metadata": {},
   "outputs": [],
   "source": [
    "import trueskill\n",
    "from trueskill import TrueSkill, rate_1vs1\n",
    "import matplotlib.pyplot as plt\n",
    "import random"
   ]
  },
  {
   "cell_type": "code",
   "execution_count": 2,
   "id": "c5376441-5101-4ef6-9691-1f4ed381b08a",
   "metadata": {},
   "outputs": [],
   "source": [
    "def matches(match=100, bob_win=0.24):\n",
    "    alice = TrueSkill(mu=1500, sigma=150, beta=75, tau=1.5, draw_probability=0.0)\n",
    "    bob = TrueSkill(mu=1500, sigma=150, beta=75, tau=1.5, draw_probability=0.0)\n",
    "    for i in range(match):\n",
    "        if random.random() < bob_win:\n",
    "            b, a = rate_1vs1(bob, alice)\n",
    "        else:\n",
    "            a, b = rate_1vs1(alice, bob)\n",
    "        alice = TrueSkill(mu=a.mu, sigma=a.sigma, beta=75, tau=1.5, draw_probability=0.0)\n",
    "        bob = TrueSkill(mu=b.mu, sigma=b.sigma, beta=75, tau=1.5, draw_probability=0.0)\n",
    "    return [alice, bob]\n",
    "def skill(player):\n",
    "    return player.mu - 3 * player.sigma\n",
    "def diff_skill(players):\n",
    "    return skill(players[0]) - skill(players[1])\n",
    "list_diff_skill = [diff_skill(matches()) for j in range(100)]"
   ]
  },
  {
   "cell_type": "code",
   "execution_count": 3,
   "id": "ceb66c1f-966c-4739-8ee3-b05332f389ce",
   "metadata": {},
   "outputs": [
    {
     "ename": "TypeError",
     "evalue": "can't multiply sequence by non-int of type 'float'",
     "output_type": "error",
     "traceback": [
      "\u001b[0;31m---------------------------------------------------------------------------\u001b[0m",
      "\u001b[0;31mTypeError\u001b[0m                                 Traceback (most recent call last)",
      "\u001b[0;32m/var/folders/n9/f0mpt8zx0klf6y8t3s2xg3500000gn/T/ipykernel_36151/2649177180.py\u001b[0m in \u001b[0;36m<module>\u001b[0;34m\u001b[0m\n\u001b[1;32m      3\u001b[0m \u001b[0max\u001b[0m\u001b[0;34m.\u001b[0m\u001b[0mhist\u001b[0m\u001b[0;34m(\u001b[0m\u001b[0mlist_diff_skill\u001b[0m\u001b[0;34m,\u001b[0m \u001b[0mbins\u001b[0m\u001b[0;34m=\u001b[0m\u001b[0;36m18\u001b[0m\u001b[0;34m,\u001b[0m \u001b[0mrange\u001b[0m\u001b[0;34m=\u001b[0m\u001b[0;34m(\u001b[0m\u001b[0;36m0\u001b[0m\u001b[0;34m,\u001b[0m\u001b[0;36m9\u001b[0m\u001b[0;34m)\u001b[0m\u001b[0;34m)\u001b[0m\u001b[0;34m\u001b[0m\u001b[0;34m\u001b[0m\u001b[0m\n\u001b[1;32m      4\u001b[0m \u001b[0max\u001b[0m\u001b[0;34m.\u001b[0m\u001b[0mset_xlim\u001b[0m\u001b[0;34m(\u001b[0m\u001b[0;36m0\u001b[0m\u001b[0;34m,\u001b[0m\u001b[0;36m9\u001b[0m\u001b[0;34m)\u001b[0m\u001b[0;34m\u001b[0m\u001b[0;34m\u001b[0m\u001b[0m\n\u001b[0;32m----> 5\u001b[0;31m \u001b[0max\u001b[0m\u001b[0;34m.\u001b[0m\u001b[0mset_yticks\u001b[0m\u001b[0;34m(\u001b[0m\u001b[0;36m0.1\u001b[0m\u001b[0;34m*\u001b[0m\u001b[0;34m[\u001b[0m\u001b[0;36m0\u001b[0m\u001b[0;34m,\u001b[0m\u001b[0;36m40\u001b[0m\u001b[0;34m,\u001b[0m\u001b[0;36m80\u001b[0m\u001b[0;34m,\u001b[0m\u001b[0;36m120\u001b[0m\u001b[0;34m,\u001b[0m\u001b[0;36m160\u001b[0m\u001b[0;34m,\u001b[0m\u001b[0;36m200\u001b[0m\u001b[0;34m,\u001b[0m\u001b[0;36m250\u001b[0m\u001b[0;34m]\u001b[0m\u001b[0;34m)\u001b[0m\u001b[0;34m\u001b[0m\u001b[0;34m\u001b[0m\u001b[0m\n\u001b[0m\u001b[1;32m      6\u001b[0m \u001b[0;34m\u001b[0m\u001b[0m\n\u001b[1;32m      7\u001b[0m \u001b[0;31m# save figure\u001b[0m\u001b[0;34m\u001b[0m\u001b[0;34m\u001b[0m\u001b[0m\n",
      "\u001b[0;31mTypeError\u001b[0m: can't multiply sequence by non-int of type 'float'"
     ]
    },
    {
     "data": {
      "image/png": "[encoded data removed]",
      "text/plain": [
       "<Figure size 432x288 with 1 Axes>"
      ]
     },
     "metadata": {
      "needs_background": "light"
     },
     "output_type": "display_data"
    }
   ],
   "source": [
    "fig = plt.figure()\n",
    "ax  = fig.add_subplot(1,1,1)\n",
    "ax.hist(list_diff_skill, bins=18, range=(0,9))\n",
    "ax.set_xlim(0,9)\n",
    "ax.set_yticks(0.1*[0,40,80,120,160,200,250])\n",
    "\n",
    "# save figure\n",
    "plt.tight_layout()\n",
    "# plt.savefig('figure/hist_diff_skill_1000.pdf', bbox_inches='tight')"
   ]
  },
  {
   "cell_type": "code",
   "execution_count": 4,
   "id": "4501541c-3a55-464e-90b5-64020caa32a2",
   "metadata": {},
   "outputs": [],
   "source": [
    "SIGMA_INIT = 15\n",
    "BETA = 7.5\n",
    "TAU = 0.15"
   ]
  },
  {
   "cell_type": "code",
   "execution_count": 5,
   "id": "97bdc191-100f-43b2-a286-98500cd7a087",
   "metadata": {},
   "outputs": [],
   "source": [
    "def matches_with_beginners(match=100, bob_win=0.24):\n",
    "    alice = TrueSkill(mu=1500, sigma=SIGMA_INIT, beta=BETA, tau=TAU, draw_probability=0.0)\n",
    "    bob = TrueSkill(mu=1500, sigma=SIGMA_INIT, beta=BETA, tau=TAU, draw_probability=0.0)\n",
    "    for i in range(match):\n",
    "        if random.random() < bob_win:\n",
    "            _, a = rate_1vs1(bob, alice)\n",
    "        else:\n",
    "            a, _ = rate_1vs1(alice, bob)\n",
    "        alice = TrueSkill(mu=a.mu, sigma=a.sigma, beta=BETA, tau=TAU, draw_probability=0.0)\n",
    "        bob = TrueSkill(mu=1500, sigma=SIGMA_INIT, beta=BETA, tau=TAU, draw_probability=0.0)\n",
    "    return alice"
   ]
  },
  {
   "cell_type": "code",
   "execution_count": 6,
   "id": "cffa42fe-e70f-48a0-8ee1-d8df1bfc89d9",
   "metadata": {},
   "outputs": [],
   "source": [
    "def matches_with_self(match=100, bob_win=0.24):\n",
    "    alice = TrueSkill(mu=1500, sigma=SIGMA_INIT, beta=BETA, tau=TAU, draw_probability=0.0)\n",
    "    bob = TrueSkill(mu=1500, sigma=SIGMA_INIT, beta=BETA, tau=TAU, draw_probability=0.0)\n",
    "    for i in range(match):\n",
    "        # print(alice)\n",
    "        # print(bob)\n",
    "        # print(rate_1vs1(alice, bob))\n",
    "        if random.random() < bob_win:\n",
    "            _, a = rate_1vs1(bob, alice)\n",
    "        else:\n",
    "            a, _ = rate_1vs1(alice, bob)\n",
    "        alice = TrueSkill(mu=a.mu, sigma=a.sigma, beta=BETA, tau=TAU, draw_probability=0.0)\n",
    "        bob = alice\n",
    "    return alice"
   ]
  },
  {
   "cell_type": "code",
   "execution_count": 7,
   "id": "eaa826b5-8a3c-48f5-953a-b6e7621ff299",
   "metadata": {},
   "outputs": [
    {
     "data": {
      "text/plain": [
       "1536.9625771199524"
      ]
     },
     "execution_count": 7,
     "metadata": {},
     "output_type": "execute_result"
    }
   ],
   "source": [
    "SIGMA_INIT = 15\n",
    "BETA = 7.5\n",
    "TAU = 0.15\n",
    "alice = matches_with_beginners(1000, 0.0)\n",
    "skill(alice)"
   ]
  },
  {
   "cell_type": "code",
   "execution_count": 8,
   "id": "cfa91234-4073-44c6-827f-58a4c53b3c9c",
   "metadata": {},
   "outputs": [
    {
     "name": "stdout",
     "output_type": "stream",
     "text": [
      "1535.5468395125522\n",
      "1521.6018554339648\n"
     ]
    }
   ],
   "source": [
    "bob = TrueSkill(mu=1500, sigma=15, beta=7.5, tau=0.15, draw_probability=0.0)\n",
    "(bob, alice) = rate_1vs1(bob, alice)\n",
    "print(skill(alice))\n",
    "print(skill(bob))"
   ]
  },
  {
   "cell_type": "code",
   "execution_count": 9,
   "id": "8c177fb8-5f5c-43d9-a653-836a93f9220c",
   "metadata": {},
   "outputs": [
    {
     "data": {
      "text/plain": [
       "1605.2927422147934"
      ]
     },
     "execution_count": 9,
     "metadata": {},
     "output_type": "execute_result"
    }
   ],
   "source": [
    "SIGMA_INIT = 15\n",
    "BETA = 7.5\n",
    "TAU = 0.15\n",
    "alice = matches_with_self(500, 0.0)\n",
    "skill(alice)"
   ]
  },
  {
   "cell_type": "code",
   "execution_count": 10,
   "id": "844537ab-8696-47b3-b7f0-811acec8d04b",
   "metadata": {},
   "outputs": [
    {
     "name": "stdout",
     "output_type": "stream",
     "text": [
      "1605.0211856277817\n",
      "1578.0683127029372\n"
     ]
    }
   ],
   "source": [
    "bob = TrueSkill(mu=1500, sigma=SIGMA_INIT, beta=BETA, tau=TAU, draw_probability=0.0)\n",
    "(bob, alice) = rate_1vs1(bob, alice)\n",
    "print(skill(alice))\n",
    "print(skill(bob))"
   ]
  },
  {
   "cell_type": "code",
   "execution_count": 11,
   "id": "b4101a99-bbf4-47a7-94ba-dc71b67f2da2",
   "metadata": {},
   "outputs": [
    {
     "data": {
      "text/plain": [
       "1627.3736915761056"
      ]
     },
     "execution_count": 11,
     "metadata": {},
     "output_type": "execute_result"
    }
   ],
   "source": [
    "SIGMA_INIT = 150\n",
    "BETA = 75\n",
    "TAU = 1.5\n",
    "alice = matches_with_self(5, 0.0)\n",
    "skill(alice)"
   ]
  },
  {
   "cell_type": "code",
   "execution_count": 12,
   "id": "418b80e2-f4b5-4255-a7e1-b2ae12305adb",
   "metadata": {},
   "outputs": [
    {
     "name": "stdout",
     "output_type": "stream",
     "text": [
      "1590.8176459223164\n",
      "1597.609053611581\n"
     ]
    }
   ],
   "source": [
    "bob = TrueSkill(mu=1500, sigma=SIGMA_INIT, beta=BETA, tau=TAU, draw_probability=0.0)\n",
    "(bob, alice) = rate_1vs1(bob, alice)\n",
    "print(skill(alice))\n",
    "print(skill(bob))"
   ]
  },
  {
   "cell_type": "code",
   "execution_count": null,
   "id": "ce8592cc-b8ba-4976-ac70-a9ce6d7e9a92",
   "metadata": {},
   "outputs": [],
   "source": []
  }
 ],
 "metadata": {
  "kernelspec": {
   "display_name": "Python 3 (ipykernel)",
   "language": "python",
   "name": "python3"
  },
  "language_info": {
   "codemirror_mode": {
    "name": "ipython",
    "version": 3
   },
   "file_extension": ".py",
   "mimetype": "text/x-python",
   "name": "python",
   "nbconvert_exporter": "python",
   "pygments_lexer": "ipython3",
   "version": "3.9.7"
  }
 },
 "nbformat": 4,
 "nbformat_minor": 5
}
