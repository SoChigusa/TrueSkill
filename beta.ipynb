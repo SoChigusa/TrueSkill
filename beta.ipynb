{
 "cells": [
  {
   "cell_type": "markdown",
   "id": "6c3640bc-905f-4652-8bc1-94cffd8a7367",
   "metadata": {},
   "source": [
    "# TrueSkill のいろいろテスト"
   ]
  },
  {
   "cell_type": "code",
   "execution_count": 125,
   "id": "399539be-d2f1-43a1-ba61-30895a17a5cb",
   "metadata": {},
   "outputs": [],
   "source": [
    "from trueskill import Rating, TrueSkill, rate_1vs1\n",
    "import matplotlib.pyplot as plt\n",
    "import random"
   ]
  },
  {
   "cell_type": "code",
   "execution_count": 178,
   "id": "c5376441-5101-4ef6-9691-1f4ed381b08a",
   "metadata": {},
   "outputs": [],
   "source": [
    "# mu=1500, sigma=150, beta=75, tau=1.5\n",
    "def diff_skill():\n",
    "    alice = TrueSkill(draw_probability=0.0)\n",
    "    bob = TrueSkill(draw_probability=0.0)\n",
    "    for i in range(100):\n",
    "        if random.random() < 0.24:\n",
    "            bob, alice = rate_1vs1(bob, alice)\n",
    "        else:\n",
    "            alice, bob = rate_1vs1(alice, bob)\n",
    "    return alice.mu - bob.mu - 3 * (alice.sigma - bob.sigma)\n",
    "list_diff_skill = [diff_skill() for j in range(1000)]"
   ]
  },
  {
   "cell_type": "code",
   "execution_count": 183,
   "id": "ceb66c1f-966c-4739-8ee3-b05332f389ce",
   "metadata": {},
   "outputs": [
    {
     "data": {
      "image/png": "[encoded data removed]",
      "text/plain": [
       "<Figure size 432x288 with 1 Axes>"
      ]
     },
     "metadata": {
      "needs_background": "light"
     },
     "output_type": "display_data"
    }
   ],
   "source": [
    "fig = plt.figure()\n",
    "ax  = fig.add_subplot(1,1,1)\n",
    "ax.hist(list_diff_skill, bins=18, range=(0,9))\n",
    "ax.set_xlim(0,9)\n",
    "ax.set_yticks([0,40,80,120,160,200])\n",
    "\n",
    "# save figure\n",
    "plt.tight_layout()\n",
    "plt.savefig('figure/hist_diff_skill.pdf', bbox_inches='tight')"
   ]
  },
  {
   "cell_type": "code",
   "execution_count": null,
   "id": "97bdc191-100f-43b2-a286-98500cd7a087",
   "metadata": {},
   "outputs": [],
   "source": []
  }
 ],
 "metadata": {
  "kernelspec": {
   "display_name": "Python 3 (ipykernel)",
   "language": "python",
   "name": "python3"
  },
  "language_info": {
   "codemirror_mode": {
    "name": "ipython",
    "version": 3
   },
   "file_extension": ".py",
   "mimetype": "text/x-python",
   "name": "python",
   "nbconvert_exporter": "python",
   "pygments_lexer": "ipython3",
   "version": "3.9.7"
  }
 },
 "nbformat": 4,
 "nbformat_minor": 5
}
